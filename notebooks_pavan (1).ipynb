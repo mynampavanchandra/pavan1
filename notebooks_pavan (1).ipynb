{
  "metadata": {
    "language_info": {
      "codemirror_mode": {
        "name": "python",
        "version": 3
      },
      "file_extension": ".py",
      "mimetype": "text/x-python",
      "name": "python",
      "nbconvert_exporter": "python",
      "pygments_lexer": "ipython3",
      "version": "3.8"
    },
    "kernelspec": {
      "name": "python",
      "display_name": "Python (Pyodide)",
      "language": "python"
    }
  },
  "nbformat_minor": 4,
  "nbformat": 4,
  "cells": [
    {
      "cell_type": "code",
      "source": "# Create 5 matrices with five different dimensions (1-D,2-D,...5-D)\nimport numpy as np\n\n# 1-D Matrix\nmatrix_1d = np.array([1, 2, 3, 4, 5])\n\n# 2-D Matrix\nmatrix_2d = np.array([[1, 2, 3],\n                      [4, 5, 6]])\n\n# 3-D Matrix\nmatrix_3d = np.array([[[1, 2],\n                       [3, 4]],\n                      \n                      [[5, 6],\n                       [7, 8]]])\n\n# 4-D Matrix\nmatrix_4d = np.array([[[1, 2],\n                        [3, 4]],\n                       \n                       [[5, 6],\n                        [7, 8]]])\n\n# 5-D Matrix\nmatrix_5d = np.array([[[[1, 2],\n                         [3, 4]],\n                        \n                        [[5, 6],\n                         [7, 8]]]])\n\n# Printing the matrices\nprint(\"1-D Matrix:\")\nprint(matrix_1d)\n\nprint(\"\\n2-D Matrix:\")\nprint(matrix_2d)\n\nprint(\"\\n3-D Matrix:\")\nprint(matrix_3d)\n\nprint(\"\\n4-D Matrix:\")\nprint(matrix_4d)\n\nprint(\"\\n5-D Matrix:\")\nprint(matrix_5d)",
      "metadata": {
        "trusted": true
      },
      "execution_count": 5,
      "outputs": [
        {
          "name": "stdout",
          "text": "1-D Matrix:\n[1 2 3 4 5]\n\n2-D Matrix:\n[[1 2 3]\n [4 5 6]]\n\n3-D Matrix:\n[[[1 2]\n  [3 4]]\n\n [[5 6]\n  [7 8]]]\n\n4-D Matrix:\n[[[1 2]\n  [3 4]]\n\n [[5 6]\n  [7 8]]]\n\n5-D Matrix:\n[[[[1 2]\n   [3 4]]\n\n  [[5 6]\n   [7 8]]]]\n",
          "output_type": "stream"
        }
      ]
    },
    {
      "cell_type": "code",
      "source": "# Find determinants of 5 matrices and display your output\nimport numpy as np\n\n# Define 5 matrices as NumPy arrays\nmatrices = []\n\nmatrix1 = np.array([[1, 2],\n                    [3, 4]])\n\nmatrix2 = np.array([[5, 6],\n                    [7, 8]])\n\nmatrix3 = np.array([[9, 10],\n                    [11, 12]])\n\nmatrix4 = np.array([[13, 14],\n                    [15, 16]])\n\nmatrix5 = np.array([[17, 18],\n                    [19, 20]])\n\nmatrices.extend([matrix1, matrix2, matrix3, matrix4, matrix5])\n\n# Calculate and display the determinants of the matrices\nfor i, matrix in enumerate(matrices, start=1):\n    determinant = np.linalg.det(matrix)\n    print(f\"Determinant of matrix {i}:\\n{determinant}\\n\")\n\n",
      "metadata": {
        "trusted": true
      },
      "execution_count": 6,
      "outputs": [
        {
          "name": "stdout",
          "text": "Determinant of matrix 1:\n-2.0000000000000004\n\nDeterminant of matrix 2:\n-2.000000000000005\n\nDeterminant of matrix 3:\n-1.9999999999999984\n\nDeterminant of matrix 4:\n-1.9999999999999931\n\nDeterminant of matrix 5:\n-2.000000000000056\n\n",
          "output_type": "stream"
        }
      ]
    },
    {
      "cell_type": "code",
      "source": "# Find inverse of the above 5 matrices and display your output\nimport numpy as np\n\n# Define 5 matrices as NumPy arrays\nmatrices = []\n\nmatrix1 = np.array([[1, 2],\n                    [3, 4]])\n\nmatrix2 = np.array([[5, 6],\n                    [7, 8]])\n\nmatrix3 = np.array([[9, 10],\n                    [11, 12]])\n\nmatrix4 = np.array([[13, 14],\n                    [15, 16]])\n\nmatrix5 = np.array([[17, 18],\n                    [19, 20]])\n\nmatrices.extend([matrix1, matrix2, matrix3, matrix4, matrix5])\n\n# Calculate and display the inverses of the matrices\nfor i, matrix in enumerate(matrices, start=1):\n    try:\n        inverse_matrix = np.linalg.inv(matrix)\n        print(f\"Inverse of matrix {i}:\\n{inverse_matrix}\\n\")\n    except np.linalg.LinAlgError:\n        print(f\"Matrix {i} is singular and does not have an inverse.\\n\")\n\n\n",
      "metadata": {
        "trusted": true
      },
      "execution_count": 7,
      "outputs": [
        {
          "name": "stdout",
          "text": "Inverse of matrix 1:\n[[-2.   1. ]\n [ 1.5 -0.5]]\n\nInverse of matrix 2:\n[[-4.   3. ]\n [ 3.5 -2.5]]\n\nInverse of matrix 3:\n[[-6.   5. ]\n [ 5.5 -4.5]]\n\nInverse of matrix 4:\n[[-8.   7. ]\n [ 7.5 -6.5]]\n\nInverse of matrix 5:\n[[-10.    9. ]\n [  9.5  -8.5]]\n\n",
          "output_type": "stream"
        }
      ]
    },
    {
      "cell_type": "code",
      "source": "# Find the rank, diagonal and trace of the 5 matrices\nimport numpy as np\n\n# Define 5 matrices as NumPy arrays\nmatrices = []\n\nmatrix1 = np.array([[1, 2],\n                    [3, 4]])\n\nmatrix2 = np.array([[5, 6],\n                    [7, 8]])\n\nmatrix3 = np.array([[9, 10],\n                    [11, 12]])\n\nmatrix4 = np.array([[13, 14],\n                    [15, 16]])\n\nmatrix5 = np.array([[17, 18],\n                    [19, 20]])\n\nmatrices.extend([matrix1, matrix2, matrix3, matrix4, matrix5])\n\n# Calculate and display the rank, diagonal, and trace of the matrices\nfor i, matrix in enumerate(matrices, start=1):\n    # Rank\n    rank = np.linalg.matrix_rank(matrix)\n    \n    # Diagonal elements\n    diagonal = np.diag(matrix)\n    \n    # Trace\n    trace = np.trace(matrix)\n    \n    print(f\"Matrix {i}:\\n\")\n    print(f\"Rank: {rank}\\n\")\n    print(f\"Diagonal: {diagonal}\\n\")\n    print(f\"Trace: {trace}\\n\")\n\n",
      "metadata": {
        "trusted": true
      },
      "execution_count": 8,
      "outputs": [
        {
          "name": "stdout",
          "text": "Matrix 1:\n\nRank: 2\n\nDiagonal: [1 4]\n\nTrace: 5\n\nMatrix 2:\n\nRank: 2\n\nDiagonal: [5 8]\n\nTrace: 13\n\nMatrix 3:\n\nRank: 2\n\nDiagonal: [ 9 12]\n\nTrace: 21\n\nMatrix 4:\n\nRank: 2\n\nDiagonal: [13 16]\n\nTrace: 29\n\nMatrix 5:\n\nRank: 2\n\nDiagonal: [17 20]\n\nTrace: 37\n\n",
          "output_type": "stream"
        }
      ]
    },
    {
      "cell_type": "code",
      "source": "# Find Eigen value and eigen vector for 5 matrices\nimport numpy as np\n\n# Define 5 matrices as NumPy arrays\nmatrices = []\n\nmatrix1 = np.array([[1, 2],\n                    [3, 4]])\n\nmatrix2 = np.array([[5, 6],\n                    [7, 8]])\n\nmatrix3 = np.array([[9, 10],\n                    [11, 12]])\n\nmatrix4 = np.array([[13, 14],\n                    [15, 16]])\n\nmatrix5 = np.array([[17, 18],\n                    [19, 20]])\n\nmatrices.extend([matrix1, matrix2, matrix3, matrix4, matrix5])\n\n# Calculate and display the eigenvalues and eigenvectors of the matrices\nfor i, matrix in enumerate(matrices, start=1):\n    eigenvalues, eigenvectors = np.linalg.eig(matrix)\n    \n    print(f\"Matrix {i}:\\n\")\n    print(f\"Eigenvalues:\\n{eigenvalues}\\n\")\n    print(f\"Eigenvectors:\\n{eigenvectors}\\n\")\n\n",
      "metadata": {
        "trusted": true
      },
      "execution_count": 9,
      "outputs": [
        {
          "name": "stdout",
          "text": "Matrix 1:\n\nEigenvalues:\n[-0.37228132  5.37228132]\n\nEigenvectors:\n[[-0.82456484 -0.41597356]\n [ 0.56576746 -0.90937671]]\n\nMatrix 2:\n\nEigenvalues:\n[-0.15206735 13.15206735]\n\nEigenvectors:\n[[-0.75868086 -0.59276441]\n [ 0.65146248 -0.80537591]]\n\nMatrix 3:\n\nEigenvalues:\n[-0.09481005 21.09481005]\n\nEigenvectors:\n[[-0.73979641 -0.63720844]\n [ 0.67283079 -0.77069151]]\n\nMatrix 4:\n\nEigenvalues:\n[-0.06880228 29.06880228]\n\nEigenvectors:\n[[-0.73099964 -0.65690325]\n [ 0.68237784 -0.75397488]]\n\nMatrix 5:\n\nEigenvalues:\n[-0.05397532 37.05397532]\n\nEigenvectors:\n[[-0.72592563 -0.66796817]\n [ 0.68777321 -0.74418984]]\n\n",
          "output_type": "stream"
        }
      ]
    },
    {
      "cell_type": "code",
      "source": "",
      "metadata": {},
      "execution_count": null,
      "outputs": []
    }
  ]
}